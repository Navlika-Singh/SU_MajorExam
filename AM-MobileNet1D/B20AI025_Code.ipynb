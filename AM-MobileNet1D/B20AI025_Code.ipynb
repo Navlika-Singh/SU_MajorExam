{
  "cells": [
    {
      "cell_type": "markdown",
      "metadata": {
        "id": "wYlmvy--rN5P"
      },
      "source": [
        "[Question 3]"
      ]
    },
    {
      "cell_type": "code",
      "execution_count": 1,
      "metadata": {
        "colab": {
          "base_uri": "https://localhost:8080/"
        },
        "id": "w8MRR5OQrFDu",
        "outputId": "05172c91-2bf0-47ae-8b1d-8d6654dd225a"
      },
      "outputs": [
        {
          "name": "stdout",
          "output_type": "stream",
          "text": [
            "Collecting gTTS\n",
            "  Downloading gTTS-2.5.1-py3-none-any.whl (29 kB)\n",
            "Requirement already satisfied: requests<3,>=2.27 in /usr/local/lib/python3.10/dist-packages (from gTTS) (2.31.0)\n",
            "Requirement already satisfied: click<8.2,>=7.1 in /usr/local/lib/python3.10/dist-packages (from gTTS) (8.1.7)\n",
            "Requirement already satisfied: charset-normalizer<4,>=2 in /usr/local/lib/python3.10/dist-packages (from requests<3,>=2.27->gTTS) (3.3.2)\n",
            "Requirement already satisfied: idna<4,>=2.5 in /usr/local/lib/python3.10/dist-packages (from requests<3,>=2.27->gTTS) (3.7)\n",
            "Requirement already satisfied: urllib3<3,>=1.21.1 in /usr/local/lib/python3.10/dist-packages (from requests<3,>=2.27->gTTS) (2.0.7)\n",
            "Requirement already satisfied: certifi>=2017.4.17 in /usr/local/lib/python3.10/dist-packages (from requests<3,>=2.27->gTTS) (2024.2.2)\n",
            "Installing collected packages: gTTS\n",
            "Successfully installed gTTS-2.5.1\n"
          ]
        }
      ],
      "source": [
        "#install gTTs library\n",
        "!pip install gTTS"
      ]
    },
    {
      "cell_type": "code",
      "execution_count": 4,
      "metadata": {
        "colab": {
          "base_uri": "https://localhost:8080/",
          "height": 111
        },
        "id": "TishmjbwrniG",
        "outputId": "3ed81e3f-6eb4-42a4-810a-4041b00eb406"
      },
      "outputs": [
        {
          "name": "stdout",
          "output_type": "stream",
          "text": [
            "Please enter a sentence: Hi! My name is Navlika\n",
            "Playing your converted speech:\n"
          ]
        },
        {
          "data": {
            "text/html": [
              "\n",
              "                <audio  controls=\"controls\" autoplay=\"autoplay\">\n",
              "                    <source src=\"data:audio/mpeg;base64,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\" type=\"audio/mpeg\" />\n",
              "                    Your browser does not support the audio element.\n",
              "                </audio>\n",
              "              "
            ],
            "text/plain": [
              "<IPython.lib.display.Audio object>"
            ]
          },
          "execution_count": 4,
          "metadata": {},
          "output_type": "execute_result"
        }
      ],
      "source": [
        "#script usig gtts library\n",
        "from gtts import gTTS\n",
        "from IPython.display import Audio\n",
        "\n",
        "def text_to_speech_gtts():\n",
        "    try:\n",
        "        # Prompt the user for input\n",
        "        user_input = input(\"Please enter a sentence: \")\n",
        "\n",
        "        # Convert the text to speech using gTTS\n",
        "        tts = gTTS(text=user_input, lang='en')\n",
        "\n",
        "        # Save the speech as an audio file\n",
        "        audio_file = \"output_gtts.mp3\"\n",
        "        tts.save(audio_file)\n",
        "\n",
        "        # Play the audio file\n",
        "        print(\"Playing your converted speech:\")\n",
        "        return Audio(audio_file, autoplay=True)\n",
        "\n",
        "    except Exception as e:\n",
        "        print(f\"An error occurred: {e}\")\n",
        "\n",
        "# Run the function\n",
        "text_to_speech_gtts()"
      ]
    },
    {
      "cell_type": "code",
      "execution_count": 9,
      "metadata": {
        "colab": {
          "base_uri": "https://localhost:8080/"
        },
        "id": "IpHkYvU1rYzN",
        "outputId": "e71fe79b-1509-4b8f-8a8b-15c0e6cc4781"
      },
      "outputs": [
        {
          "name": "stdout",
          "output_type": "stream",
          "text": [
            "Requirement already satisfied: pyttsx3 in /usr/local/lib/python3.10/dist-packages (2.90)\n"
          ]
        }
      ],
      "source": [
        "#install pyttsx3 library\n",
        "!pip install pyttsx3"
      ]
    },
    {
      "cell_type": "code",
      "execution_count": 8,
      "metadata": {
        "colab": {
          "base_uri": "https://localhost:8080/"
        },
        "id": "R3O8JdIYsph0",
        "outputId": "6c85487a-a181-4301-c22e-4e21fa6353cc"
      },
      "outputs": [
        {
          "name": "stdout",
          "output_type": "stream",
          "text": [
            "Reading package lists... Done\n",
            "Building dependency tree... Done\n",
            "Reading state information... Done\n",
            "The following additional packages will be installed:\n",
            "  espeak-data libespeak1 libportaudio2 libsonic0\n",
            "The following NEW packages will be installed:\n",
            "  espeak espeak-data libespeak1 libportaudio2 libsonic0\n",
            "0 upgraded, 5 newly installed, 0 to remove and 45 not upgraded.\n",
            "Need to get 1,382 kB of archives.\n",
            "After this operation, 3,178 kB of additional disk space will be used.\n",
            "Get:1 http://archive.ubuntu.com/ubuntu jammy/universe amd64 libportaudio2 amd64 19.6.0-1.1 [65.3 kB]\n",
            "Get:2 http://archive.ubuntu.com/ubuntu jammy/main amd64 libsonic0 amd64 0.2.0-11build1 [10.3 kB]\n",
            "Get:3 http://archive.ubuntu.com/ubuntu jammy/universe amd64 espeak-data amd64 1.48.15+dfsg-3 [1,085 kB]\n",
            "Get:4 http://archive.ubuntu.com/ubuntu jammy/universe amd64 libespeak1 amd64 1.48.15+dfsg-3 [156 kB]\n",
            "Get:5 http://archive.ubuntu.com/ubuntu jammy/universe amd64 espeak amd64 1.48.15+dfsg-3 [64.2 kB]\n",
            "Fetched 1,382 kB in 1s (1,436 kB/s)\n",
            "debconf: unable to initialize frontend: Dialog\n",
            "debconf: (No usable dialog-like program is installed, so the dialog based frontend cannot be used. at /usr/share/perl5/Debconf/FrontEnd/Dialog.pm line 78, <> line 5.)\n",
            "debconf: falling back to frontend: Readline\n",
            "debconf: unable to initialize frontend: Readline\n",
            "debconf: (This frontend requires a controlling tty.)\n",
            "debconf: falling back to frontend: Teletype\n",
            "dpkg-preconfigure: unable to re-open stdin: \n",
            "Selecting previously unselected package libportaudio2:amd64.\n",
            "(Reading database ... 121920 files and directories currently installed.)\n",
            "Preparing to unpack .../libportaudio2_19.6.0-1.1_amd64.deb ...\n",
            "Unpacking libportaudio2:amd64 (19.6.0-1.1) ...\n",
            "Selecting previously unselected package libsonic0:amd64.\n",
            "Preparing to unpack .../libsonic0_0.2.0-11build1_amd64.deb ...\n",
            "Unpacking libsonic0:amd64 (0.2.0-11build1) ...\n",
            "Selecting previously unselected package espeak-data:amd64.\n",
            "Preparing to unpack .../espeak-data_1.48.15+dfsg-3_amd64.deb ...\n",
            "Unpacking espeak-data:amd64 (1.48.15+dfsg-3) ...\n",
            "Selecting previously unselected package libespeak1:amd64.\n",
            "Preparing to unpack .../libespeak1_1.48.15+dfsg-3_amd64.deb ...\n",
            "Unpacking libespeak1:amd64 (1.48.15+dfsg-3) ...\n",
            "Selecting previously unselected package espeak.\n",
            "Preparing to unpack .../espeak_1.48.15+dfsg-3_amd64.deb ...\n",
            "Unpacking espeak (1.48.15+dfsg-3) ...\n",
            "Setting up libportaudio2:amd64 (19.6.0-1.1) ...\n",
            "Setting up libsonic0:amd64 (0.2.0-11build1) ...\n",
            "Setting up espeak-data:amd64 (1.48.15+dfsg-3) ...\n",
            "Setting up libespeak1:amd64 (1.48.15+dfsg-3) ...\n",
            "Setting up espeak (1.48.15+dfsg-3) ...\n",
            "Processing triggers for man-db (2.10.2-1) ...\n",
            "Processing triggers for libc-bin (2.35-0ubuntu3.4) ...\n",
            "/sbin/ldconfig.real: /usr/local/lib/libtbbbind_2_0.so.3 is not a symbolic link\n",
            "\n",
            "/sbin/ldconfig.real: /usr/local/lib/libtbbmalloc.so.2 is not a symbolic link\n",
            "\n",
            "/sbin/ldconfig.real: /usr/local/lib/libtbbmalloc_proxy.so.2 is not a symbolic link\n",
            "\n",
            "/sbin/ldconfig.real: /usr/local/lib/libtbbbind.so.3 is not a symbolic link\n",
            "\n",
            "/sbin/ldconfig.real: /usr/local/lib/libtbbbind_2_5.so.3 is not a symbolic link\n",
            "\n",
            "/sbin/ldconfig.real: /usr/local/lib/libtbb.so.12 is not a symbolic link\n",
            "\n"
          ]
        }
      ],
      "source": [
        "#install requirement to assist pyttsx3\n",
        "!sudo apt-get install espeak"
      ]
    },
    {
      "cell_type": "code",
      "execution_count": 16,
      "metadata": {
        "colab": {
          "base_uri": "https://localhost:8080/"
        },
        "id": "iZ9LCpx-rluo",
        "outputId": "e242e771-a62f-41e9-bf14-b7dd837d47f6"
      },
      "outputs": [
        {
          "name": "stdout",
          "output_type": "stream",
          "text": [
            "Please enter a sentence: Hello\n",
            "Playing your converted speech:\n",
            "An error occurred: rate must be specified when data is a numpy array or list of audio samples.\n"
          ]
        }
      ],
      "source": [
        "#script using pyttsx3\n",
        "#[NOTE] The first run will give error because pyttsx3 lib is unable to immediately save the output. Consequently\n",
        "#       the subsequent code is unable to read it and there is a missing file error. However, after the some time\n",
        "#       when the file is saved and you run the cell again, the code is able to read the previously saved file and\n",
        "#       read it out loud. Hence, there are two ways to run this code:\n",
        "#       1. either you run the code as it is, in which case, it will give 'missing file' error on the first run and\n",
        "#       read the previous file out loud in the second run. OR\n",
        "#       2. you comment out the 'reading the saved output file' part and run the function. this way you only save the\n",
        "#       output file and read it on your own separately (which will not give any errors).\n",
        "#       I have kept the default as the 1st approach because it was instructed that the script should read the user input\n",
        "#       and provide the synthesised speech in one run or end-to-end manner only.\n",
        "import pyttsx3\n",
        "from IPython.display import Audio\n",
        "\n",
        "def text_to_speech_pyttsx3():\n",
        "    try:\n",
        "        # Prompt the user for input\n",
        "        user_input = input(\"Please enter a sentence: \")\n",
        "\n",
        "        # Initialize the TTS engine\n",
        "        engine = pyttsx3.init()\n",
        "\n",
        "        # Convert the text to speech and save it to an audio file\n",
        "        audio_file = \"output_pyttsx3.mp3\"\n",
        "        engine.save_to_file(user_input, audio_file)\n",
        "        engine.runAndWait()\n",
        "        engine.stop()\n",
        "\n",
        "        # Play the audio file using IPython.display.Audio\n",
        "        print(\"Playing your converted speech:\")   #comment out this part for 2nd approach\n",
        "        return Audio(audio_file, autoplay=True)   #comment out this part for 2nd approach\n",
        "\n",
        "    except Exception as e:\n",
        "        print(f\"An error occurred: {e}\")\n",
        "\n",
        "# Run the function\n",
        "text_to_speech_pyttsx3()"
      ]
    },
    {
      "cell_type": "markdown",
      "metadata": {
        "id": "hDzVj_qierkD"
      },
      "source": [
        "[Question 4]\n",
        "[Bonus]"
      ]
    },
    {
      "cell_type": "code",
      "execution_count": 1,
      "metadata": {
        "colab": {
          "base_uri": "https://localhost:8080/"
        },
        "id": "WqXyMXJCe7LD",
        "outputId": "6fe48821-7bfb-42dc-dc93-74580bc521dd"
      },
      "outputs": [
        {
          "name": "stdout",
          "output_type": "stream",
          "text": [
            "Cloning into 'AM-MobileNet1D'...\n",
            "remote: Enumerating objects: 63, done.\u001b[K\n",
            "remote: Counting objects: 100% (63/63), done.\u001b[K\n",
            "remote: Compressing objects: 100% (48/48), done.\u001b[K\n",
            "remote: Total 63 (delta 30), reused 34 (delta 12), pack-reused 0\u001b[K\n",
            "Receiving objects: 100% (63/63), 151.21 KiB | 2.96 MiB/s, done.\n",
            "Resolving deltas: 100% (30/30), done.\n"
          ]
        }
      ],
      "source": [
        "!git clone https://github.com/joaoantoniocn/AM-MobileNet1D.git"
      ]
    },
    {
      "cell_type": "code",
      "execution_count": 2,
      "metadata": {
        "colab": {
          "base_uri": "https://localhost:8080/"
        },
        "id": "OXH6xWn5fGGB",
        "outputId": "1557cb60-7e04-42d1-9026-920997873049"
      },
      "outputs": [
        {
          "name": "stdout",
          "output_type": "stream",
          "text": [
            "/content/AM-MobileNet1D\n"
          ]
        }
      ],
      "source": [
        "%cd /content/AM-MobileNet1D"
      ]
    },
    {
      "cell_type": "code",
      "execution_count": 3,
      "metadata": {
        "colab": {
          "base_uri": "https://localhost:8080/"
        },
        "id": "1lWnA2vesThp",
        "outputId": "c58c29ef-3907-4dac-ea39-5249f6d9e063"
      },
      "outputs": [
        {
          "name": "stdout",
          "output_type": "stream",
          "text": [
            "Using Softmax loss function...\n",
            "100%|████████████████████████████████████████████████████████████████████████████████████████████████████████████████████████████████████████████████████████████████████| 800/800 [01:42<00:00,  7.83it/s]\n",
            "epoch 0, loss_tr=9.053098 err_tr=0.926348 loss_te=4.292468 err_te=0.887253 err_te_snt=0.751804 time=174.077807\n",
            "100%|████████████████████████████████████████████████████████████████████████████████████████████████████████████████████████████████████████████████████████████████████| 800/800 [01:42<00:00,  7.82it/s]\n",
            "epoch 1, loss_tr=5.943351 err_tr=0.733467 loss_te=3.710823 err_te=0.773738 err_te_snt=0.426407 time=348.232898\n",
            "100%|████████████████████████████████████████████████████████████████████████████████████████████████████████████████████████████████████████████████████████████████████| 800/800 [01:42<00:00,  7.81it/s]\n",
            "epoch 2, loss_tr=4.443256 err_tr=0.583037 loss_te=3.176666 err_te=0.683162 err_te_snt=0.257576 time=522.067101\n",
            "100%|████████████████████████████████████████████████████████████████████████████████████████████████████████████████████████████████████████████████████████████████████| 800/800 [01:42<00:00,  7.80it/s]\n",
            "epoch 3, loss_tr=3.437083 err_tr=0.470918 loss_te=3.500287 err_te=0.667177 err_te_snt=0.310245 time=696.055486\n",
            "100%|████████████████████████████████████████████████████████████████████████████████████████████████████████████████████████████████████████████████████████████████████| 800/800 [01:42<00:00,  7.80it/s]\n",
            "epoch 4, loss_tr=2.774390 err_tr=0.390811 loss_te=2.636148 err_te=0.572073 err_te_snt=0.135642 time=870.093701\n",
            "100%|████████████████████████████████████████████████████████████████████████████████████████████████████████████████████████████████████████████████████████████████████| 800/800 [01:42<00:00,  7.82it/s]\n",
            "epoch 5, loss_tr=2.274054 err_tr=0.327256 loss_te=4.399996 err_te=0.668150 err_te_snt=0.355700 time=1043.794130\n",
            "100%|████████████████████████████████████████████████████████████████████████████████████████████████████████████████████████████████████████████████████████████████████| 800/800 [01:42<00:00,  7.80it/s]\n",
            "epoch 6, loss_tr=1.907006 err_tr=0.278525 loss_te=3.043713 err_te=0.581560 err_te_snt=0.180375 time=1217.982137\n",
            "100%|████████████████████████████████████████████████████████████████████████████████████████████████████████████████████████████████████████████████████████████████████| 800/800 [01:42<00:00,  7.81it/s]\n",
            "epoch 7, loss_tr=1.628944 err_tr=0.241875 loss_te=2.209888 err_te=0.483933 err_te_snt=0.072150 time=1391.760001\n"
          ]
        }
      ],
      "source": [
        "!python speaker_id_kl.py --cfg=/content/AM-MobileNet1D/cfg/MobileNet1D_TIMIT_KL.cfg"
      ]
    },
    {
      "attachments": {},
      "cell_type": "markdown",
      "metadata": {},
      "source": [
        "NOTE: The results for the bonus part of the major exam were run on department server using python scripts. Considering only .ipynb files are allowed for submission I had to reproduce the results on Google Colab again. Please refer to the following github link for the modified code scripts and original logs of training."
      ]
    },
    {
      "cell_type": "code",
      "execution_count": null,
      "metadata": {
        "id": "teh8M-U2e2Rr"
      },
      "outputs": [],
      "source": []
    }
  ],
  "metadata": {
    "accelerator": "GPU",
    "colab": {
      "gpuType": "T4",
      "provenance": []
    },
    "kernelspec": {
      "display_name": "Python 3",
      "name": "python3"
    },
    "language_info": {
      "name": "python"
    }
  },
  "nbformat": 4,
  "nbformat_minor": 0
}
